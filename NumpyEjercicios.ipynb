{
 "cells": [
  {
   "cell_type": "markdown",
   "id": "d524d9c2",
   "metadata": {},
   "source": [
    "# Numpy\n",
    "acontinuacion veremos como utilizar la paqueteria \n",
    "de numpy, nos permite hacer metodos para matrices, arreglos y vectores\n",
    "ejemplo crearemos una matriz de 3x3"
   ]
  },
  {
   "cell_type": "code",
   "execution_count": 6,
   "id": "ca980823",
   "metadata": {},
   "outputs": [
    {
     "data": {
      "text/plain": [
       "array([0, 1, 2, 3, 4, 5, 6, 7, 8])"
      ]
     },
     "execution_count": 6,
     "metadata": {},
     "output_type": "execute_result"
    }
   ],
   "source": [
    "# vector de dim9 importando numpy\n",
    "import numpy as np\n",
    "\n",
    "a=np.arange(9)\n",
    "a"
   ]
  },
  {
   "cell_type": "code",
   "execution_count": 7,
   "id": "bdd6a5e6",
   "metadata": {},
   "outputs": [
    {
     "data": {
      "text/plain": [
       "array([[0, 1, 2],\n",
       "       [3, 4, 5],\n",
       "       [6, 7, 8]])"
      ]
     },
     "execution_count": 7,
     "metadata": {},
     "output_type": "execute_result"
    }
   ],
   "source": [
    "#aqui a nuestra array que le asignamos 9 valores\n",
    "#lo pasamos a una matriz de 3x3\n",
    "a.reshape(3,3)"
   ]
  },
  {
   "cell_type": "code",
   "execution_count": 8,
   "id": "645caf59",
   "metadata": {},
   "outputs": [
    {
     "data": {
      "text/plain": [
       "[2, 3, 5, 7, 11, 13]"
      ]
     },
     "execution_count": 8,
     "metadata": {},
     "output_type": "execute_result"
    }
   ],
   "source": [
    "# crearemos una lista de numeros primos\n",
    "numeros_primos=[2,3,5,7,11,13]\n",
    "numeros_primos"
   ]
  },
  {
   "cell_type": "code",
   "execution_count": 9,
   "id": "10a8ac5d",
   "metadata": {},
   "outputs": [
    {
     "data": {
      "text/plain": [
       "array([ 2,  3,  5,  7, 11, 13])"
      ]
     },
     "execution_count": 9,
     "metadata": {},
     "output_type": "execute_result"
    }
   ],
   "source": [
    "#creamos un array de numeros primos\n",
    "array_primos=np.array(numeros_primos)\n",
    "array_primos\n"
   ]
  },
  {
   "cell_type": "code",
   "execution_count": 10,
   "id": "a404cf06",
   "metadata": {},
   "outputs": [
    {
     "data": {
      "text/plain": [
       "array([0, 1, 2, 3, 4, 5, 6, 7, 8, 9])"
      ]
     },
     "execution_count": 10,
     "metadata": {},
     "output_type": "execute_result"
    }
   ],
   "source": [
    "#creamos array con arange\n",
    "array_numeros=np.arange(10)\n",
    "array_numeros"
   ]
  },
  {
   "cell_type": "code",
   "execution_count": 11,
   "id": "fab05288",
   "metadata": {},
   "outputs": [
    {
     "data": {
      "text/plain": [
       "array([ 0,  2,  4,  6,  8, 10, 12, 14, 16, 18])"
      ]
     },
     "execution_count": 11,
     "metadata": {},
     "output_type": "execute_result"
    }
   ],
   "source": [
    "#creamos array numeros pares del 0 al 20 y 2 en 2\n",
    "array_pares=np.arange(0,20,2)\n",
    "array_pares"
   ]
  },
  {
   "cell_type": "code",
   "execution_count": 14,
   "id": "4590b615",
   "metadata": {},
   "outputs": [
    {
     "data": {
      "text/plain": [
       "array([[ 0,  2,  4,  6,  8],\n",
       "       [10, 12, 14, 16, 18]])"
      ]
     },
     "execution_count": 14,
     "metadata": {},
     "output_type": "execute_result"
    }
   ],
   "source": [
    "#creamos un array de 2 dimensiones 2 filas y 5 columnas\n",
    "array_pares.reshape(2,5)\n"
   ]
  },
  {
   "cell_type": "markdown",
   "id": "34a37a09",
   "metadata": {},
   "source": [
    "# veamos la suma y estadistica\n",
    "Acontinuacion veremos la suma, promedio y moda\n",
    "con numpy, se pueden ver muchas mas funciones\n",
    "con estadisticas\n",
    "creamos nuestro array de numeros primos"
   ]
  },
  {
   "cell_type": "code",
   "execution_count": 12,
   "id": "ea220f39",
   "metadata": {},
   "outputs": [
    {
     "data": {
      "text/plain": [
       "array([ 2,  3,  5,  7, 11, 13])"
      ]
     },
     "execution_count": 12,
     "metadata": {},
     "output_type": "execute_result"
    }
   ],
   "source": [
    "array_primos"
   ]
  },
  {
   "cell_type": "code",
   "execution_count": 13,
   "id": "d248f2f9",
   "metadata": {},
   "outputs": [
    {
     "data": {
      "text/plain": [
       "41"
      ]
     },
     "execution_count": 13,
     "metadata": {},
     "output_type": "execute_result"
    }
   ],
   "source": [
    "#hacemos una suma de arrays\n",
    "array_primos.sum()"
   ]
  },
  {
   "cell_type": "code",
   "execution_count": 14,
   "id": "5f78f6b7",
   "metadata": {},
   "outputs": [
    {
     "data": {
      "text/plain": [
       "6.833333333333333"
      ]
     },
     "execution_count": 14,
     "metadata": {},
     "output_type": "execute_result"
    }
   ],
   "source": [
    "#sacamos el promedio del array\n",
    "array_primos.mean()"
   ]
  },
  {
   "cell_type": "code",
   "execution_count": 15,
   "id": "77686554",
   "metadata": {},
   "outputs": [
    {
     "data": {
      "text/plain": [
       "16.13888888888889"
      ]
     },
     "execution_count": 15,
     "metadata": {},
     "output_type": "execute_result"
    }
   ],
   "source": [
    "#sacamos la varianza del array\n",
    "array_primos.var()"
   ]
  },
  {
   "cell_type": "code",
   "execution_count": 17,
   "id": "c3a4085f",
   "metadata": {},
   "outputs": [
    {
     "data": {
      "text/plain": [
       "array([10,  9, 11, 29, 18, 16,  0,  1,  2,  3])"
      ]
     },
     "execution_count": 17,
     "metadata": {},
     "output_type": "execute_result"
    }
   ],
   "source": [
    "#ordenar un array\n",
    "array_desordenado=np.array([10,9,11,29,18,16,0,1,2,3])\n",
    "array_desordenado"
   ]
  },
  {
   "cell_type": "code",
   "execution_count": 18,
   "id": "76815a55",
   "metadata": {},
   "outputs": [
    {
     "data": {
      "text/plain": [
       "array([ 0,  1,  2,  3,  9, 10, 11, 16, 18, 29])"
      ]
     },
     "execution_count": 18,
     "metadata": {},
     "output_type": "execute_result"
    }
   ],
   "source": [
    "#ordenado de menor a mayor\n",
    "np.sort(array_desordenado)"
   ]
  },
  {
   "cell_type": "code",
   "execution_count": 19,
   "id": "99bfe8e4",
   "metadata": {},
   "outputs": [
    {
     "data": {
      "text/plain": [
       "array([29, 18, 16, 11, 10,  9,  3,  2,  1,  0])"
      ]
     },
     "execution_count": 19,
     "metadata": {},
     "output_type": "execute_result"
    }
   ],
   "source": [
    "#ordenado de mayor a menor\n",
    "#usamos con el negativo (-)\n",
    "-np.sort(-array_desordenado)"
   ]
  },
  {
   "cell_type": "code",
   "execution_count": 21,
   "id": "658e6896",
   "metadata": {},
   "outputs": [
    {
     "data": {
      "text/plain": [
       "array([[ 0,  2,  4,  6,  8],\n",
       "       [10, 12, 14, 16, 18]])"
      ]
     },
     "execution_count": 21,
     "metadata": {},
     "output_type": "execute_result"
    }
   ],
   "source": [
    "#creamos un array de 2dmin y 5col\n",
    "#le diremos que sea del 0 al 20 y vaya de 2 en 2\n",
    "\n",
    "a=np.arange(0,20,2).reshape(2,5)\n",
    "a"
   ]
  },
  {
   "cell_type": "markdown",
   "id": "879f78cb",
   "metadata": {},
   "source": [
    "# ahora veremos como seleccionar\n",
    "un elemento del array, recordar que la primera fila es 0 siempre"
   ]
  },
  {
   "cell_type": "code",
   "execution_count": 22,
   "id": "e179f7ab",
   "metadata": {},
   "outputs": [
    {
     "data": {
      "text/plain": [
       "0"
      ]
     },
     "execution_count": 22,
     "metadata": {},
     "output_type": "execute_result"
    }
   ],
   "source": [
    "#seleccionamos la fila y columna 0\n",
    "a[0,0]"
   ]
  },
  {
   "cell_type": "code",
   "execution_count": 23,
   "id": "990de21e",
   "metadata": {},
   "outputs": [
    {
     "data": {
      "text/plain": [
       "18"
      ]
     },
     "execution_count": 23,
     "metadata": {},
     "output_type": "execute_result"
    }
   ],
   "source": [
    "#seleccionamos la fila 1 y la columna 4\n",
    "a[1,4]"
   ]
  },
  {
   "cell_type": "code",
   "execution_count": 24,
   "id": "e64fc96c",
   "metadata": {},
   "outputs": [
    {
     "data": {
      "text/plain": [
       "array([10, 12, 14, 16, 18])"
      ]
     },
     "execution_count": 24,
     "metadata": {},
     "output_type": "execute_result"
    }
   ],
   "source": [
    "#seleccionamos todo de la fila 1\n",
    "a[1,:]"
   ]
  },
  {
   "cell_type": "code",
   "execution_count": 25,
   "id": "8497050f",
   "metadata": {},
   "outputs": [
    {
     "data": {
      "text/plain": [
       "array([ 2, 12])"
      ]
     },
     "execution_count": 25,
     "metadata": {},
     "output_type": "execute_result"
    }
   ],
   "source": [
    "#ahora por columna\n",
    "a[:,1]"
   ]
  },
  {
   "cell_type": "markdown",
   "id": "8e588315",
   "metadata": {},
   "source": [
    "# utilizaremos las condiciones dentro\n",
    "# del array, 1 vez es boolean y si insertamos\n",
    "# nuevamente el array nos muestra los num"
   ]
  },
  {
   "cell_type": "code",
   "execution_count": 26,
   "id": "43a17be7",
   "metadata": {},
   "outputs": [
    {
     "data": {
      "text/plain": [
       "array([10,  9, 11, 29, 18, 16,  0,  1,  2,  3])"
      ]
     },
     "execution_count": 26,
     "metadata": {},
     "output_type": "execute_result"
    }
   ],
   "source": [
    "array_desordenado"
   ]
  },
  {
   "cell_type": "code",
   "execution_count": 28,
   "id": "c9bca466",
   "metadata": {},
   "outputs": [
    {
     "data": {
      "text/plain": [
       "array([ True,  True,  True, False,  True,  True,  True,  True,  True,\n",
       "        True])"
      ]
     },
     "execution_count": 28,
     "metadata": {},
     "output_type": "execute_result"
    }
   ],
   "source": [
    "array_desordenado<20"
   ]
  },
  {
   "cell_type": "code",
   "execution_count": 30,
   "id": "5a18af4d",
   "metadata": {},
   "outputs": [
    {
     "data": {
      "text/plain": [
       "array([10,  9, 11, 18, 16,  0,  1,  2,  3])"
      ]
     },
     "execution_count": 30,
     "metadata": {},
     "output_type": "execute_result"
    }
   ],
   "source": [
    "array_desordenado[array_desordenado<20]"
   ]
  },
  {
   "cell_type": "code",
   "execution_count": null,
   "id": "6b4980eb",
   "metadata": {},
   "outputs": [],
   "source": []
  }
 ],
 "metadata": {
  "kernelspec": {
   "display_name": "Python 3 (ipykernel)",
   "language": "python",
   "name": "python3"
  },
  "language_info": {
   "codemirror_mode": {
    "name": "ipython",
    "version": 3
   },
   "file_extension": ".py",
   "mimetype": "text/x-python",
   "name": "python",
   "nbconvert_exporter": "python",
   "pygments_lexer": "ipython3",
   "version": "3.9.12"
  }
 },
 "nbformat": 4,
 "nbformat_minor": 5
}
