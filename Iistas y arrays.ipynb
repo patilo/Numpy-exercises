{
 "cells": [
  {
   "cell_type": "markdown",
   "id": "55b815f7",
   "metadata": {},
   "source": [
    "# vamos a crear listas y mostrar como se recorren\n",
    "usaremos listas y arrays de dimx"
   ]
  },
  {
   "cell_type": "raw",
   "id": "08ea60fd",
   "metadata": {},
   "source": [
    "crearemos una lista con:\n",
    "abreviacion de aplicaciones\n",
    "nombre de aplicaciones\n",
    "cantidad de usuarios\n",
    "y si pertence a facebook (mark Z)\n",
    "ej\n",
    "abreviacion : /  nombre:   /  cantidad:  /  pertenece a fb (?)\n"
   ]
  },
  {
   "cell_type": "code",
   "execution_count": 4,
   "id": "23235fa5",
   "metadata": {},
   "outputs": [],
   "source": [
    "#datos de las rrss\n",
    "\n",
    "fb = ['Facebook', 988833, True]\n",
    "twt = ['Twitter', 857575, False]\n",
    "ig = ['Instagram', 757575, True]\n",
    "wsp = ['Whatsapp', 22828828, True]\n",
    "tel = ['Telegram', 292992, False]\n",
    "lkn = ['Linkdin', 47477277, False]"
   ]
  },
  {
   "cell_type": "markdown",
   "id": "89035995",
   "metadata": {},
   "source": [
    "# como agregar o eliminar datos en las listas\n",
    "para agregar usamos el append y remove para eliminar\n",
    "ejemplo\n",
    "nombre.append(elemento para agregar)\n",
    "nombre.remove(elemento a remover)"
   ]
  },
  {
   "cell_type": "code",
   "execution_count": 10,
   "id": "0d1c7a4a",
   "metadata": {},
   "outputs": [
    {
     "data": {
      "text/plain": [
       "['Facebook', 988833, True]"
      ]
     },
     "execution_count": 10,
     "metadata": {},
     "output_type": "execute_result"
    }
   ],
   "source": [
    "fb"
   ]
  },
  {
   "cell_type": "code",
   "execution_count": 12,
   "id": "4edd2665",
   "metadata": {},
   "outputs": [],
   "source": [
    "fb.append(200)"
   ]
  },
  {
   "cell_type": "code",
   "execution_count": 13,
   "id": "5b16ba9c",
   "metadata": {},
   "outputs": [
    {
     "data": {
      "text/plain": [
       "['Facebook', 988833, True, 200]"
      ]
     },
     "execution_count": 13,
     "metadata": {},
     "output_type": "execute_result"
    }
   ],
   "source": [
    "fb"
   ]
  },
  {
   "cell_type": "code",
   "execution_count": 14,
   "id": "db99e1ed",
   "metadata": {},
   "outputs": [],
   "source": [
    "fb.remove(200)"
   ]
  },
  {
   "cell_type": "code",
   "execution_count": 15,
   "id": "c58d0265",
   "metadata": {},
   "outputs": [
    {
     "data": {
      "text/plain": [
       "['Facebook', 988833, True]"
      ]
     },
     "execution_count": 15,
     "metadata": {},
     "output_type": "execute_result"
    }
   ],
   "source": [
    "fb"
   ]
  },
  {
   "cell_type": "code",
   "execution_count": 16,
   "id": "d869e66a",
   "metadata": {},
   "outputs": [],
   "source": [
    "fb.append('hola')"
   ]
  },
  {
   "cell_type": "code",
   "execution_count": 17,
   "id": "2a98a247",
   "metadata": {},
   "outputs": [],
   "source": [
    "fb"
   ]
  },
  {
   "cell_type": "code",
   "execution_count": 21,
   "id": "7762e640",
   "metadata": {
    "scrolled": true
   },
   "outputs": [],
   "source": [
    "fb.remove('hola')"
   ]
  },
  {
   "cell_type": "code",
   "execution_count": 22,
   "id": "3cbc93ea",
   "metadata": {},
   "outputs": [
    {
     "data": {
      "text/plain": [
       "['Facebook', 988833, True]"
      ]
     },
     "execution_count": 22,
     "metadata": {},
     "output_type": "execute_result"
    }
   ],
   "source": [
    "fb"
   ]
  },
  {
   "cell_type": "code",
   "execution_count": null,
   "id": "dbb339f8",
   "metadata": {},
   "outputs": [],
   "source": []
  }
 ],
 "metadata": {
  "kernelspec": {
   "display_name": "Python 3 (ipykernel)",
   "language": "python",
   "name": "python3"
  },
  "language_info": {
   "codemirror_mode": {
    "name": "ipython",
    "version": 3
   },
   "file_extension": ".py",
   "mimetype": "text/x-python",
   "name": "python",
   "nbconvert_exporter": "python",
   "pygments_lexer": "ipython3",
   "version": "3.9.7"
  }
 },
 "nbformat": 4,
 "nbformat_minor": 5
}
